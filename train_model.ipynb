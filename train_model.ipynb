{
  "nbformat": 4,
  "nbformat_minor": 0,
  "metadata": {
    "colab": {
      "name": "train model.ipynb",
      "provenance": [],
      "authorship_tag": "ABX9TyPt4qm1ONdMs5YEa5H/bXY1",
      "include_colab_link": true
    },
    "kernelspec": {
      "name": "python3",
      "display_name": "Python 3"
    },
    "language_info": {
      "name": "python"
    },
    "accelerator": "GPU"
  },
  "cells": [
    {
      "cell_type": "markdown",
      "metadata": {
        "id": "view-in-github",
        "colab_type": "text"
      },
      "source": [
        "<a href=\"https://colab.research.google.com/github/giangkarry/Machine-Learning/blob/main/train_model.ipynb\" target=\"_parent\"><img src=\"https://colab.research.google.com/assets/colab-badge.svg\" alt=\"Open In Colab\"/></a>"
      ]
    },
    {
      "cell_type": "code",
      "metadata": {
        "id": "9E4cq3hzxw8k"
      },
      "source": [
        "!git clone https://github.com/giangkarry/Machine-Learning.git"
      ],
      "execution_count": null,
      "outputs": []
    },
    {
      "cell_type": "code",
      "metadata": {
        "id": "BqL9dORpju8U"
      },
      "source": [
        "import torch\n",
        "from torch import nn\n",
        "import torchvision\n",
        "from torchvision import transforms\n",
        "import matplotlib.pyplot as plt\n",
        "from collections import namedtuple\n",
        "from sklearn.metrics import classification_report"
      ],
      "execution_count": 2,
      "outputs": []
    },
    {
      "cell_type": "code",
      "metadata": {
        "id": "819esVSdj3ei"
      },
      "source": [
        "classes = ('2C', '3C', '4C')\n",
        "TrainTest = namedtuple('TrainTest', ['train', 'test'])\n",
        "traindir = '/content/Machine-Learning/DATA_CHAMBER_2021/train'\n",
        "testdir = '/content/Machine-Learning/DATA_CHAMBER_2021/test'\n",
        "#hàm chuẩn bị dữ liệu\n",
        "def prepare_data(img_size):\n",
        "  \n",
        "  transform = transforms.Compose([\n",
        "        transforms.Resize((img_size,img_size)), \n",
        "        transforms.ToTensor()\n",
        "    ])\n",
        "  trainset = torchvision.datasets.ImageFolder(root= traindir, transform=transform)\n",
        "  testset  = torchvision.datasets.ImageFolder(root=testdir, transform=transform)\n",
        "\n",
        "  return TrainTest(\n",
        "      train=trainset,\n",
        "      test=testset\n",
        "  )\n",
        "\n",
        "#hàm chuẩn bị dữ liệu theo batch đưa vào model\n",
        "def prepare_loader(datasets):\n",
        "    batch_size = 32\n",
        "    num_workers = 4\n",
        "    trainloader = torch.utils.data.DataLoader(\n",
        "        dataset=datasets.train, batch_size=batch_size, shuffle=True, num_workers=num_workers)\n",
        "    testloader = torch.utils.data.DataLoader(\n",
        "        dataset=datasets.test, batch_size=batch_size, shuffle=False, num_workers=num_workers)\n",
        "    return TrainTest(\n",
        "        train=trainloader,\n",
        "        test=testloader\n",
        "    )\n"
      ],
      "execution_count": 21,
      "outputs": []
    },
    {
      "cell_type": "code",
      "metadata": {
        "id": "UmrBlkCDj3v-"
      },
      "source": [
        "#train\n",
        "def get_trainer(model):\n",
        "  loss = nn.CrossEntropyLoss()\n",
        "  optimizer = torch.optim.SGD(model.parameters(), lr=0.01, momentum=0.9, weight_decay=5e-4)\n",
        "  return loss, optimizer\n",
        "\n",
        "#hàm train trong mỗi epoch\n",
        "def train_epoch(epoch, model, loader, loss_func, optimizer, device):\n",
        "    model.train()\n",
        "    running_loss = 0.0\n",
        "    reporting_step = 42\n",
        "    for i, (images, labels) in enumerate(loader):\n",
        "        images, labels = images.to(device), labels.to(device)\n",
        "\n",
        "        optimizer.zero_grad()\n",
        "        outputs = model(images)\n",
        "        loss = loss_func(outputs, labels)\n",
        "        loss.backward()\n",
        "        optimizer.step()\n",
        "        \n",
        "        running_loss += loss.item()\n",
        "        if i % reporting_step == reporting_step-1:\n",
        "            print(f\"Epoch {epoch} Step {i} ave_loss {running_loss/reporting_step:0.4f}\")\n",
        "            running_loss = 0.0"
      ],
      "execution_count": 23,
      "outputs": []
    },
    {
      "cell_type": "code",
      "metadata": {
        "id": "nI5rAWo3j38G"
      },
      "source": [
        "#hàm test\n",
        "def test_epoch(epoch, model, loader, device):\n",
        "    model.eval()\n",
        "    ypred = []\n",
        "    ytrue = []\n",
        "    for i, (images, labels) in enumerate(loader):\n",
        "      images, labels = images.to(device), labels.to(device)\n",
        "      outputs = model(images)\n",
        "      _, predicted = torch.max(outputs, dim=1)\n",
        "      ypred += list(predicted.cpu().numpy())\n",
        "      ytrue += list(labels.cpu().numpy())\n",
        "    return ypred, ytrue"
      ],
      "execution_count": 24,
      "outputs": []
    },
    {
      "cell_type": "code",
      "metadata": {
        "id": "ThlVZYxskil4"
      },
      "source": [
        "#thực thi\n",
        "def main(model = None, img_size = None):\n",
        "  datasets = prepare_data(img_size)\n",
        "  loaders = prepare_loader(datasets)\n",
        "  #print(\"Tập train: \", len(datasets.train))\n",
        "  #print(\"Tập test: \", len(datasets.test))\n",
        "  #print(\"class: \", datasets.test.class_to_idx)\n",
        "  \n",
        "  device = torch.device(\"cuda:0\" if torch.cuda.is_available() else \"cpu\")\n",
        "  PATH = ''\n",
        "  if model == 'vgg16':\n",
        "    model = torchvision.models.vgg16()\n",
        "    model.classifier[-1] = torch.nn.modules.Linear(in_features=4096, out_features=3)\n",
        "    PATH = './vgg16.pth'\n",
        "  \n",
        "  elif (model == 'vgg19'):\n",
        "    model = torchvision.models.vgg19()\n",
        "    model.classifier[-1] = torch.nn.modules.Linear(in_features=4096, out_features=3)\n",
        "    PATH = './vgg19.pth'\n",
        "  \n",
        "  elif model == 'resnet50':\n",
        "    model = torchvision.models.resnet50()\n",
        "    model.fc = torch.nn.modules.Linear(in_features=2048, out_features=3)\n",
        "    PATH = './vgg16.pth'\n",
        "  \n",
        "\n",
        "  n_epoch = 8\n",
        "  model.to(device)\n",
        "  #print(device)\n",
        "  loss, optimizer = get_trainer(model)\n",
        "  for epoch in range(n_epoch):\n",
        "    train_epoch(epoch, model, loaders.train, loss, optimizer, device)\n",
        "    ypred, ytrue = test_epoch(epoch, model, loaders.test, device)\n",
        "    print(classification_report(ytrue, ypred, target_names=classes))\n",
        "    \n",
        "    torch.save(model.state_dict(), PATH)\n",
        "  return model\n",
        "\n",
        "\n",
        "\n"
      ],
      "execution_count": 27,
      "outputs": []
    },
    {
      "cell_type": "code",
      "metadata": {
        "id": "QFFe85WNTF99"
      },
      "source": [
        "#VGG16\n",
        "model=main('vgg16', 32)"
      ],
      "execution_count": null,
      "outputs": []
    },
    {
      "cell_type": "code",
      "metadata": {
        "id": "gNE4wYwxn9vg"
      },
      "source": [
        "#VGG16\n",
        "model=main('vgg16', 224)"
      ],
      "execution_count": null,
      "outputs": []
    },
    {
      "cell_type": "code",
      "metadata": {
        "id": "gzVVMNp-oBRg"
      },
      "source": [
        "#VGG19\n",
        "model=main('vgg19', 32)"
      ],
      "execution_count": null,
      "outputs": []
    },
    {
      "cell_type": "code",
      "metadata": {
        "id": "pyv2suT08VwO"
      },
      "source": [
        "#VGG19\n",
        "model=main('vgg19', 224)"
      ],
      "execution_count": null,
      "outputs": []
    },
    {
      "cell_type": "code",
      "metadata": {
        "id": "HxSGdq0X8YAp"
      },
      "source": [
        "#Reanet50\n",
        "model = main('resnet50', 32)"
      ],
      "execution_count": null,
      "outputs": []
    },
    {
      "cell_type": "code",
      "metadata": {
        "id": "mgRUQG-E8unO"
      },
      "source": [
        "#Reanet50\n",
        "model = main('resnet50', 224)\n"
      ],
      "execution_count": null,
      "outputs": []
    }
  ]
}