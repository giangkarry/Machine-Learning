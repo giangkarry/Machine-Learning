{
  "nbformat": 4,
  "nbformat_minor": 0,
  "metadata": {
    "colab": {
      "name": "train model.ipynb",
      "provenance": [],
      "authorship_tag": "ABX9TyPbagKWAWEZZI3g7zSEOEa6",
      "include_colab_link": true
    },
    "kernelspec": {
      "name": "python3",
      "display_name": "Python 3"
    },
    "language_info": {
      "name": "python"
    },
    "accelerator": "GPU"
  },
  "cells": [
    {
      "cell_type": "markdown",
      "metadata": {
        "id": "view-in-github",
        "colab_type": "text"
      },
      "source": [
        "<a href=\"https://colab.research.google.com/github/giangkarry/Machine-Learning/blob/main/train_model.ipynb\" target=\"_parent\"><img src=\"https://colab.research.google.com/assets/colab-badge.svg\" alt=\"Open In Colab\"/></a>"
      ]
    },
    {
      "cell_type": "code",
      "metadata": {
        "id": "9E4cq3hzxw8k"
      },
      "source": [
        "!git clone https://github.com/giangkarry/Machine-Learning.git"
      ],
      "execution_count": null,
      "outputs": []
    },
    {
      "cell_type": "code",
      "metadata": {
        "id": "BqL9dORpju8U"
      },
      "source": [
        "import torch\n",
        "from torch import nn\n",
        "import torchvision\n",
        "from torchvision import transforms\n",
        "import matplotlib.pyplot as plt\n",
        "from collections import namedtuple\n",
        "from sklearn.metrics import classification_report"
      ],
      "execution_count": 2,
      "outputs": []
    },
    {
      "cell_type": "code",
      "metadata": {
        "id": "819esVSdj3ei"
      },
      "source": [
        "classes = ('2C', '3C', '4C')\n",
        "TrainTest = namedtuple('TrainTest', ['train', 'test'])\n",
        "traindir = '/content/Machine-Learning/DATA_CHAMBER_2021/train'\n",
        "testdir = '/content/Machine-Learning/DATA_CHAMBER_2021/test'\n",
        "#hàm chuẩn bị dữ liệu\n",
        "def prepare_data():\n",
        "  input_size = 224\n",
        "  transform = transforms.Compose([\n",
        "        transforms.Resize((input_size,input_size)), \n",
        "        transforms.ToTensor()\n",
        "    ])\n",
        "  trainset = torchvision.datasets.ImageFolder(root= traindir, transform=transform)\n",
        "  testset  = torchvision.datasets.ImageFolder(root=testdir, transform=transform)\n",
        "\n",
        "  return TrainTest(\n",
        "      train=trainset,\n",
        "      test=testset\n",
        "  )\n",
        "\n",
        "#hàm chuẩn bị dữ liệu theo batch đưa vào model\n",
        "def prepare_loader(datasets):\n",
        "    batch_size = 32\n",
        "    num_workers = 4\n",
        "    trainloader = torch.utils.data.DataLoader(\n",
        "        dataset=datasets.train, batch_size=batch_size, shuffle=True, num_workers=num_workers)\n",
        "    testloader = torch.utils.data.DataLoader(\n",
        "        dataset=datasets.test, batch_size=batch_size, shuffle=False, num_workers=num_workers)\n",
        "    return TrainTest(\n",
        "        train=trainloader,\n",
        "        test=testloader\n",
        "    )\n"
      ],
      "execution_count": 3,
      "outputs": []
    },
    {
      "cell_type": "code",
      "metadata": {
        "id": "UmrBlkCDj3v-"
      },
      "source": [
        "#train\n",
        "def get_trainer(model):\n",
        "  loss = nn.CrossEntropyLoss()\n",
        "  optimizer = torch.optim.SGD(model.parameters(), lr=0.01, momentum=0.9, weight_decay=5e-4)\n",
        "  return loss, optimizer\n",
        "\n",
        "#hàm train trong mỗi epoch\n",
        "def train_epoch(epoch, model, loader, loss_func, optimizer, device):\n",
        "    model.train()\n",
        "    running_loss = 0.0\n",
        "    reporting_step = 42\n",
        "    for i, (images, labels) in enumerate(loader):\n",
        "        images, labels = images.to(device), labels.to(device)\n",
        "\n",
        "        optimizer.zero_grad()\n",
        "        outputs = model(images)\n",
        "        loss = loss_func(outputs, labels)\n",
        "        loss.backward()\n",
        "        optimizer.step()\n",
        "        \n",
        "        running_loss += loss.item()\n",
        "        if i % reporting_step == reporting_step-1:\n",
        "            print(f\"Epoch {epoch} Step {i} ave_loss {running_loss/reporting_step:0.4f}\")\n",
        "            running_loss = 0.0"
      ],
      "execution_count": 4,
      "outputs": []
    },
    {
      "cell_type": "code",
      "metadata": {
        "id": "nI5rAWo3j38G"
      },
      "source": [
        "#hàm test\n",
        "def test_epoch(epoch, model, loader, device):\n",
        "    model.eval()\n",
        "    ypred = []\n",
        "    ytrue = []\n",
        "    for i, (images, labels) in enumerate(loader):\n",
        "      images, labels = images.to(device), labels.to(device)\n",
        "      outputs = model(images)\n",
        "      _, predicted = torch.max(outputs, dim=1)\n",
        "      ypred += list(predicted.cpu().numpy())\n",
        "      ytrue += list(labels.cpu().numpy())\n",
        "    return ypred, ytrue"
      ],
      "execution_count": 5,
      "outputs": []
    },
    {
      "cell_type": "code",
      "metadata": {
        "id": "ThlVZYxskil4"
      },
      "source": [
        "#thực thi\n",
        "def main(model = 'vgg16'):\n",
        "  datasets = prepare_data()\n",
        "  loaders = prepare_loader(datasets)\n",
        "  print(\"Tập train: \", len(datasets.train))\n",
        "  print(\"Tập test: \", len(datasets.test))\n",
        "  print(\"class: \", datasets.test.class_to_idx)\n",
        "  \n",
        "  device = torch.device(\"cuda:0\" if torch.cuda.is_available() else \"cpu\")\n",
        "  if model == 'vgg16':\n",
        "    model = torchvision.models.vgg16()\n",
        "    model.classifier[6] = torch.nn.modules.Linear(in_features=4096, out_features=3)\n",
        "  \n",
        "  elif (model == 'vgg19'):\n",
        "    model = torchvision.models.vgg19()\n",
        "    model.classifier[6] = torch.nn.modules.Linear(in_features=4096, out_features=3)\n",
        "  \n",
        "  elif model == 'resnet50':\n",
        "    model = torchvision.models.resnet50()\n",
        "    model.fc = torch.nn.modules.Linear(in_features=2048, out_features=3)\n",
        "\n",
        "  n_epoch = 0\n",
        "  model.to(device)\n",
        "  print(device)\n",
        "\n",
        "  loss, optimizer = get_trainer(model)\n",
        "  for epoch in range(n_epoch):\n",
        "        train_epoch(epoch, model, loaders.train, loss, optimizer, device)\n",
        "        ypred, ytrue = test_epoch(epoch, model, loaders.test, device)\n",
        "        print(classification_report(ytrue, ypred, target_names=classes))"
      ],
      "execution_count": 6,
      "outputs": []
    },
    {
      "cell_type": "code",
      "metadata": {
        "id": "QFFe85WNTF99",
        "colab": {
          "base_uri": "https://localhost:8080/"
        },
        "outputId": "711bea76-0f3c-4325-857a-2f260f88221d"
      },
      "source": [
        "#VGG16\n",
        "main('vgg16')"
      ],
      "execution_count": 7,
      "outputs": [
        {
          "output_type": "stream",
          "name": "stderr",
          "text": [
            "/usr/local/lib/python3.7/dist-packages/torch/utils/data/dataloader.py:481: UserWarning: This DataLoader will create 4 worker processes in total. Our suggested max number of worker in current system is 2, which is smaller than what this DataLoader is going to create. Please be aware that excessive worker creation might get DataLoader running slow or even freeze, lower the worker number to avoid potential slowness/freeze if necessary.\n",
            "  cpuset_checked))\n"
          ]
        },
        {
          "output_type": "stream",
          "name": "stdout",
          "text": [
            "Tập train:  6717\n",
            "Tập test:  1607\n",
            "class:  {'2C': 0, '3C': 1, '4C': 2}\n",
            "cuda:0\n"
          ]
        },
        {
          "output_type": "stream",
          "name": "stderr",
          "text": [
            "/usr/local/lib/python3.7/dist-packages/torch/nn/functional.py:718: UserWarning: Named tensors and all their associated APIs are an experimental feature and subject to change. Please do not use them for anything important until they are released as stable. (Triggered internally at  /pytorch/c10/core/TensorImpl.h:1156.)\n",
            "  return torch.max_pool2d(input, kernel_size, stride, padding, dilation, ceil_mode)\n"
          ]
        },
        {
          "output_type": "stream",
          "name": "stdout",
          "text": [
            "Epoch 0 Step 41 ave_loss 1.0755\n",
            "Epoch 0 Step 83 ave_loss 1.0730\n",
            "Epoch 0 Step 125 ave_loss 0.6786\n",
            "Epoch 0 Step 167 ave_loss 0.3786\n",
            "Epoch 0 Step 209 ave_loss 0.2959\n",
            "              precision    recall  f1-score   support\n",
            "\n",
            "          2C       0.80      0.68      0.73       409\n",
            "          3C       0.55      0.99      0.70       367\n",
            "          4C       1.00      0.72      0.84       831\n",
            "\n",
            "    accuracy                           0.77      1607\n",
            "   macro avg       0.78      0.80      0.76      1607\n",
            "weighted avg       0.85      0.77      0.78      1607\n",
            "\n",
            "Epoch 1 Step 41 ave_loss 0.1943\n",
            "Epoch 1 Step 83 ave_loss 0.1184\n",
            "Epoch 1 Step 125 ave_loss 0.0773\n",
            "Epoch 1 Step 167 ave_loss 0.0492\n",
            "Epoch 1 Step 209 ave_loss 0.0619\n",
            "              precision    recall  f1-score   support\n",
            "\n",
            "          2C       0.87      0.91      0.89       409\n",
            "          3C       0.88      0.96      0.92       367\n",
            "          4C       1.00      0.93      0.97       831\n",
            "\n",
            "    accuracy                           0.93      1607\n",
            "   macro avg       0.91      0.93      0.92      1607\n",
            "weighted avg       0.94      0.93      0.93      1607\n",
            "\n",
            "Epoch 2 Step 41 ave_loss 0.0429\n",
            "Epoch 2 Step 83 ave_loss 0.0722\n",
            "Epoch 2 Step 125 ave_loss 0.0749\n",
            "Epoch 2 Step 167 ave_loss 0.0659\n",
            "Epoch 2 Step 209 ave_loss 0.0608\n",
            "              precision    recall  f1-score   support\n",
            "\n",
            "          2C       0.87      0.99      0.92       409\n",
            "          3C       0.76      0.85      0.80       367\n",
            "          4C       1.00      0.87      0.93       831\n",
            "\n",
            "    accuracy                           0.90      1607\n",
            "   macro avg       0.88      0.91      0.89      1607\n",
            "weighted avg       0.91      0.90      0.90      1607\n",
            "\n",
            "Epoch 3 Step 41 ave_loss 0.0314\n",
            "Epoch 3 Step 83 ave_loss 0.0169\n",
            "Epoch 3 Step 125 ave_loss 0.0092\n",
            "Epoch 3 Step 167 ave_loss 0.0073\n",
            "Epoch 3 Step 209 ave_loss 0.0063\n",
            "              precision    recall  f1-score   support\n",
            "\n",
            "          2C       0.94      0.95      0.95       409\n",
            "          3C       0.91      0.92      0.92       367\n",
            "          4C       0.99      0.98      0.99       831\n",
            "\n",
            "    accuracy                           0.96      1607\n",
            "   macro avg       0.95      0.95      0.95      1607\n",
            "weighted avg       0.96      0.96      0.96      1607\n",
            "\n",
            "Epoch 4 Step 41 ave_loss 0.0322\n",
            "Epoch 4 Step 83 ave_loss 0.0146\n",
            "Epoch 4 Step 125 ave_loss 0.0536\n",
            "Epoch 4 Step 167 ave_loss 0.0280\n",
            "Epoch 4 Step 209 ave_loss 0.0014\n",
            "              precision    recall  f1-score   support\n",
            "\n",
            "          2C       0.93      0.92      0.93       409\n",
            "          3C       0.75      0.97      0.85       367\n",
            "          4C       1.00      0.87      0.93       831\n",
            "\n",
            "    accuracy                           0.91      1607\n",
            "   macro avg       0.89      0.92      0.90      1607\n",
            "weighted avg       0.92      0.91      0.91      1607\n",
            "\n",
            "Epoch 5 Step 41 ave_loss 0.0001\n",
            "Epoch 5 Step 83 ave_loss 0.0001\n",
            "Epoch 5 Step 125 ave_loss 0.0001\n",
            "Epoch 5 Step 167 ave_loss 0.0001\n",
            "Epoch 5 Step 209 ave_loss 0.0000\n",
            "              precision    recall  f1-score   support\n",
            "\n",
            "          2C       0.93      0.93      0.93       409\n",
            "          3C       0.73      0.97      0.84       367\n",
            "          4C       1.00      0.86      0.92       831\n",
            "\n",
            "    accuracy                           0.90      1607\n",
            "   macro avg       0.89      0.92      0.90      1607\n",
            "weighted avg       0.92      0.90      0.90      1607\n",
            "\n",
            "Epoch 6 Step 41 ave_loss 0.0000\n",
            "Epoch 6 Step 83 ave_loss 0.0001\n",
            "Epoch 6 Step 125 ave_loss 0.0000\n",
            "Epoch 6 Step 167 ave_loss 0.0002\n",
            "Epoch 6 Step 209 ave_loss 0.0001\n",
            "              precision    recall  f1-score   support\n",
            "\n",
            "          2C       0.97      0.91      0.94       409\n",
            "          3C       0.72      0.98      0.83       367\n",
            "          4C       1.00      0.87      0.93       831\n",
            "\n",
            "    accuracy                           0.90      1607\n",
            "   macro avg       0.90      0.92      0.90      1607\n",
            "weighted avg       0.93      0.90      0.91      1607\n",
            "\n",
            "Epoch 7 Step 41 ave_loss 0.0001\n",
            "Epoch 7 Step 83 ave_loss 0.0001\n",
            "Epoch 7 Step 125 ave_loss 0.0000\n",
            "Epoch 7 Step 167 ave_loss 0.0000\n",
            "Epoch 7 Step 209 ave_loss 0.0000\n",
            "              precision    recall  f1-score   support\n",
            "\n",
            "          2C       0.96      0.93      0.95       409\n",
            "          3C       0.73      0.97      0.83       367\n",
            "          4C       1.00      0.87      0.93       831\n",
            "\n",
            "    accuracy                           0.91      1607\n",
            "   macro avg       0.90      0.92      0.90      1607\n",
            "weighted avg       0.93      0.91      0.91      1607\n",
            "\n",
            "Epoch 8 Step 41 ave_loss 0.0001\n",
            "Epoch 8 Step 83 ave_loss 0.0000\n",
            "Epoch 8 Step 125 ave_loss 0.0000\n",
            "Epoch 8 Step 167 ave_loss 0.0000\n",
            "Epoch 8 Step 209 ave_loss 0.0000\n",
            "              precision    recall  f1-score   support\n",
            "\n",
            "          2C       0.96      0.93      0.95       409\n",
            "          3C       0.73      0.98      0.84       367\n",
            "          4C       1.00      0.87      0.93       831\n",
            "\n",
            "    accuracy                           0.91      1607\n",
            "   macro avg       0.90      0.92      0.90      1607\n",
            "weighted avg       0.93      0.91      0.91      1607\n",
            "\n",
            "Epoch 9 Step 41 ave_loss 0.0000\n",
            "Epoch 9 Step 83 ave_loss 0.0000\n",
            "Epoch 9 Step 125 ave_loss 0.0000\n",
            "Epoch 9 Step 167 ave_loss 0.0000\n",
            "Epoch 9 Step 209 ave_loss 0.0000\n",
            "              precision    recall  f1-score   support\n",
            "\n",
            "          2C       0.95      0.93      0.94       409\n",
            "          3C       0.73      0.97      0.84       367\n",
            "          4C       1.00      0.87      0.93       831\n",
            "\n",
            "    accuracy                           0.91      1607\n",
            "   macro avg       0.89      0.92      0.90      1607\n",
            "weighted avg       0.93      0.91      0.91      1607\n",
            "\n"
          ]
        }
      ]
    },
    {
      "cell_type": "code",
      "metadata": {
        "id": "gNE4wYwxn9vg"
      },
      "source": [
        "#VGG19\n",
        "main('vgg19')"
      ],
      "execution_count": null,
      "outputs": []
    },
    {
      "cell_type": "code",
      "metadata": {
        "id": "gzVVMNp-oBRg"
      },
      "source": [
        "#RESNEET50\n",
        "main('resnet50')"
      ],
      "execution_count": null,
      "outputs": []
    }
  ]
}