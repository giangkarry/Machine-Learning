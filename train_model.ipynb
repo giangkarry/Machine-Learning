{
  "nbformat": 4,
  "nbformat_minor": 0,
  "metadata": {
    "colab": {
      "name": "train_model.ipynb",
      "provenance": [],
      "include_colab_link": true
    },
    "kernelspec": {
      "name": "python3",
      "display_name": "Python 3"
    },
    "language_info": {
      "name": "python"
    },
    "accelerator": "GPU"
  },
  "cells": [
    {
      "cell_type": "markdown",
      "metadata": {
        "id": "view-in-github",
        "colab_type": "text"
      },
      "source": [
        "<a href=\"https://colab.research.google.com/github/giangkarry/Machine-Learning/blob/main/train_model.ipynb\" target=\"_parent\"><img src=\"https://colab.research.google.com/assets/colab-badge.svg\" alt=\"Open In Colab\"/></a>"
      ]
    },
    {
      "cell_type": "code",
      "metadata": {
        "colab": {
          "base_uri": "https://localhost:8080/"
        },
        "id": "sk8ZJKPVQToO",
        "outputId": "dbd756f3-b54b-4298-d46e-e869a34c8244"
      },
      "source": [
        "!git clone https://github.com/giangkarry/Machine-Learning.git"
      ],
      "execution_count": 2,
      "outputs": [
        {
          "output_type": "stream",
          "name": "stdout",
          "text": [
            "Cloning into 'Machine-Learning'...\n",
            "remote: Enumerating objects: 8355, done.\u001b[K\n",
            "remote: Counting objects: 100% (26/26), done.\u001b[K\n",
            "remote: Compressing objects: 100% (14/14), done.\u001b[K\n",
            "remote: Total 8355 (delta 14), reused 22 (delta 12), pack-reused 8329\u001b[K\n",
            "Receiving objects: 100% (8355/8355), 488.03 MiB | 28.15 MiB/s, done.\n",
            "Resolving deltas: 100% (16/16), done.\n",
            "Checking out files: 100% (8330/8330), done.\n"
          ]
        }
      ]
    },
    {
      "cell_type": "code",
      "metadata": {
        "id": "QdEgenKoQY3s"
      },
      "source": [
        "import torch\n",
        "from torch import nn\n",
        "import torchvision\n",
        "from torchvision import transforms\n",
        "import matplotlib.pyplot as plt\n",
        "from collections import namedtuple\n",
        "from sklearn.metrics import classification_report, accuracy_score\n",
        "from matplotlib.pyplot import figure"
      ],
      "execution_count": 11,
      "outputs": []
    },
    {
      "cell_type": "code",
      "metadata": {
        "id": "m-GQSzNJQbOB"
      },
      "source": [
        "classes = ('2C', '3C', '4C')\n",
        "TrainTest = namedtuple('TrainTest', ['train', 'test'])\n",
        "traindir = '/content/Machine-Learning/DATA_CHAMBER_2021/train'\n",
        "testdir = '/content/Machine-Learning/DATA_CHAMBER_2021/test'\n",
        "mean_, std_ = [0.485, 0.456, 0.406], [0.229, 0.224, 0.225]\n",
        "\n",
        "#raw_img\n",
        "def raw_img(img_size):\n",
        "  transform_train = transforms.Compose([\n",
        "        transforms.Resize((img_size,img_size)), \n",
        "        transforms.ToTensor()\n",
        "    ])\n",
        "  transform_test = transforms.Compose([\n",
        "        transforms.Resize((img_size,img_size)), \n",
        "        transforms.ToTensor()\n",
        "    ])\n",
        "  return transform_train, transform_test\n",
        "\n",
        "# preprocess_image\n",
        "def preprocess_img(img_size):\n",
        "  transform_train = transforms.Compose([\n",
        "       transforms.Resize((img_size, img_size)),\n",
        "       transforms.CenterCrop((img_size,img_size)),\n",
        "       transforms.ToTensor(),\n",
        "       transforms.Normalize(mean=mean_, std=std_)                                 \n",
        "                                        \n",
        "  ])\n",
        "\n",
        "  transform_test = transforms.Compose([\n",
        "        transforms.Resize((img_size,img_size)), \n",
        "        transforms.ToTensor()\n",
        "    ])\n",
        "  return transform_train, transform_test\n",
        "\n",
        "# augmentation_image\n",
        "def augmentation_img(img_size):\n",
        "  transform_train = transporms.Compose([\n",
        "       transforms.Resize((img_size, img_size)),  \n",
        "       transforms.RandomCrop(size=(size,size), padding=4,),\n",
        "       transforms.RandomHorizontalFlip(),\n",
        "       transforms.RandomVerticalFlip(),\n",
        "       transforms.ColorJitter(brightness=0.3, contrast=0.1),\n",
        "       transforms.ToTensor()                               \n",
        "  ])\n",
        "\n",
        "  transform_test = transforms.Compose([\n",
        "        transforms.Resize((img_size,img_size)), \n",
        "        transforms.ToTensor()\n",
        "    ])\n",
        "  return transform_train, transform_test\n"
      ],
      "execution_count": 4,
      "outputs": []
    },
    {
      "cell_type": "code",
      "metadata": {
        "id": "9TBRNEWK70Ph"
      },
      "source": [
        "#hàm chuẩn bị dữ liệu\n",
        "def prepare_data(img_size):\n",
        "  #transform_train, transform_test = raw_img(img_size)\n",
        "  transform_train, transform_test = preprocess_img(img_size)\n",
        "  #transform_train, transform_test = augmentation_img(img_size)\n",
        "  \n",
        "  trainset = torchvision.datasets.ImageFolder(root= traindir, transform=transform_train)\n",
        "  testset  = torchvision.datasets.ImageFolder(root=testdir, transform=transform_test)\n",
        "  return TrainTest (\n",
        "      train = trainset,\n",
        "      test = testset\n",
        "  )\n",
        "\n",
        "#hàm chuẩn bị dữ liệu theo batch đưa vào model\n",
        "def prepare_loader(datasets):\n",
        "    batch_size = 32\n",
        "    num_workers = 4\n",
        "    trainloader = torch.utils.data.DataLoader(\n",
        "        dataset=datasets.train, batch_size=batch_size, shuffle=True, num_workers=num_workers)\n",
        "    testloader = torch.utils.data.DataLoader(\n",
        "        dataset=datasets.test, batch_size=batch_size, shuffle=False, num_workers=num_workers)\n",
        "    return TrainTest(\n",
        "        train=trainloader,\n",
        "        test=testloader\n",
        "    )"
      ],
      "execution_count": 21,
      "outputs": []
    },
    {
      "cell_type": "code",
      "metadata": {
        "id": "9umXV4Z7Qfv3"
      },
      "source": [
        "#train\n",
        "def get_trainer(model):\n",
        "  loss = nn.CrossEntropyLoss()\n",
        "  optimizer = torch.optim.SGD(model.parameters(), lr=0.01, momentum=0.9, weight_decay=5e-4)\n",
        "  return loss, optimizer\n",
        "\n",
        "#hàm train trong mỗi epoch\n",
        "def train_epoch(epoch, model, loader, loss_func, optimizer, device):\n",
        "    model.train()\n",
        "    running_loss = 0.0\n",
        "    running_accuracy = 0.0\n",
        "    #reporting_step = 42\n",
        "    for i, data in enumerate(loader):\n",
        "      images, labels = data\n",
        "      images, labels = images.to(device), labels.to(device)\n",
        "      optimizer.zero_grad()\n",
        "      outputs = model(images)\n",
        "      loss = loss_func(outputs, labels)\n",
        "      loss.backward()\n",
        "      optimizer.step()\n",
        "      _,preds = torch.max(outputs, 1)\n",
        "      running_loss += loss.item() * images.size(0)\n",
        "      running_accuracy += torch.sum(preds == labels.data)\n",
        "\n",
        "      train_loss = running_loss/len(loader.dataset)\n",
        "      train_accuracy = running_accuracy/len(loader.dataset)\n",
        "    \n",
        "    #print(f\"training loss: {train_loss: 0.4f}, training_acc: {train_accuracy: 0.4f}\")\n",
        "    return train_loss, train_accuracy\n",
        "        \n",
        "        #if i % reporting_step == reporting_step-1:\n",
        "            \n",
        "        #    print(f\"Epoch {epoch} Step {i} ave_loss {running_loss/reporting_step:0.4f}\")\n",
        "        #    running_loss = 0.0\n",
        "    "
      ],
      "execution_count": 6,
      "outputs": []
    },
    {
      "cell_type": "code",
      "metadata": {
        "id": "gXS0sUdKQnA2"
      },
      "source": [
        "#hàm test trong mỗi epoch\n",
        "def test_epoch(epoch, model, loader, device):\n",
        "    model.eval()\n",
        "\n",
        "    ypred = []\n",
        "    ytrue = []\n",
        "    for i, (images, labels) in enumerate(loader):\n",
        "      images, labels = images.to(device), labels.to(device)\n",
        "      outputs = model(images)\n",
        "      _, predicted = torch.max(outputs, dim=1)\n",
        "      ypred += list(predicted.cpu().numpy())\n",
        "      ytrue += list(labels.cpu().numpy())\n",
        "    return ypred, ytrue"
      ],
      "execution_count": 14,
      "outputs": []
    },
    {
      "cell_type": "code",
      "metadata": {
        "id": "F-5tSPHwQpcR"
      },
      "source": [
        "#thực thi\n",
        "def main(model = None, img_size = None):\n",
        "  datasets = prepare_data(img_size)\n",
        "  loaders = prepare_loader(datasets)\n",
        "  #print(\"Tập train: \", len(datasets.train))\n",
        "  #print(\"Tập test: \", len(datasets.test))\n",
        "  #print(\"class: \", datasets.test.class_to_idx)\n",
        "  training_loss, training_accuracy = [], []\n",
        "  \n",
        "  device = torch.device(\"cuda:0\" if torch.cuda.is_available() else \"cpu\")\n",
        "  PATH = ''\n",
        "  if model == 'vgg16':\n",
        "    model = torchvision.models.vgg16()\n",
        "    model.classifier[-1] = torch.nn.modules.Linear(in_features=4096, out_features=3)\n",
        "    PATH = './vgg16.pth'\n",
        "  \n",
        "  elif (model == 'vgg19'):\n",
        "    model = torchvision.models.vgg19()\n",
        "    model.classifier[-1] = torch.nn.modules.Linear(in_features=4096, out_features=3)\n",
        "    PATH = './vgg19.pth'\n",
        "  \n",
        "  elif model == 'resnet50':\n",
        "    model = torchvision.models.resnet50()\n",
        "    model.fc = torch.nn.modules.Linear(in_features=2048, out_features=3)\n",
        "    PATH = './resnet50.pth'\n",
        "  \n",
        "  \n",
        "  n_epoch = 8\n",
        "  model.to(device)\n",
        "  \n",
        "  loss, optimizer = get_trainer(model)\n",
        "  for epoch in range(n_epoch):\n",
        "    #train\n",
        "    #train_epoch(epoch, model, loaders.train, loss, optimizer, device)\n",
        "    train_loss, train_acc = train_epoch(epoch, model, loaders.train, loss, optimizer, device)\n",
        "    print(f\"training loss: {train_loss: 0.4f}, training_accuracy: {train_acc: 0.4f}\")\n",
        "    training_loss.append(train_loss)\n",
        "    training_accuracy.append(train_acc)\n",
        "    #test\n",
        "    ypred, ytrue = test_epoch(epoch, model, loaders.test, device)\n",
        "    print(classification_report(ytrue, ypred, target_names=classes))\n",
        "    print(accuracy_score(ytrue, ypred))\n",
        "    \n",
        "    #torch.save(model.state_dict(), PATH)\n",
        "  return model, training_loss, training_accuracy"
      ],
      "execution_count": 15,
      "outputs": []
    },
    {
      "cell_type": "code",
      "metadata": {
        "id": "ne72W8dwxv-g"
      },
      "source": [
        "#VGG16 size 32\n",
        "model, training_loss, training_accuracy=main('vgg16', 32)\n",
        "model\n",
        "\n",
        "epoch = [1, 2, 3, 4, 5, 6, 7, 8]\n",
        "\n",
        "\n",
        "plt.plot(epoch, training_loss, label='training_loss')\n",
        "plt.plot(epoch, training_accuracy, label='training_accuracy')\n",
        "plt.plot()\n",
        "plt.xlabel(\"epochs\")\n",
        "plt.ylabel(\"loss & accuracy\")\n",
        "#plt.title(\"VGG16_raw(32x32)\")\n",
        "plt.title(\"VGG16_preprocess(32x32)\")\n",
        "plt.legend()\n",
        "plt.show()\n"
      ],
      "execution_count": null,
      "outputs": []
    },
    {
      "cell_type": "code",
      "metadata": {
        "id": "mE6f_s_UQzkr"
      },
      "source": [
        "#VGG16\n",
        "model, training_loss, training_accuracy=main('vgg16', 224)\n",
        "model\n",
        "\n",
        "epoch = [1, 2, 3, 4, 5, 6, 7, 8]\n",
        "\n",
        "\n",
        "plt.plot(epoch, training_loss, label='training_loss')\n",
        "plt.plot(epoch, training_accuracy, label='training_accuracy')\n",
        "plt.plot()\n",
        "plt.xlabel(\"epochs\")\n",
        "plt.ylabel(\"loss & accuracy\")\n",
        "plt.title(\"VGG16_preprocess(224x224)\")\n",
        "plt.legend()\n",
        "plt.show()"
      ],
      "execution_count": null,
      "outputs": []
    },
    {
      "cell_type": "code",
      "metadata": {
        "id": "2yd4XpEA1V9m"
      },
      "source": [
        "#VGG19_32\n",
        "model, training_loss, training_accuracy=main('vgg19', 32)\n",
        "model\n",
        "\n",
        "epoch = [1, 2, 3, 4, 5, 6, 7, 8]\n",
        "\n",
        "\n",
        "plt.plot(epoch, training_loss, label='training_loss')\n",
        "plt.plot(epoch, training_accuracy, label='training_accuracy')\n",
        "plt.plot()\n",
        "plt.xlabel(\"epochs\")\n",
        "plt.ylabel(\"loss & accuracy\")\n",
        "plt.title(\"VGG19_preprocess(32x32)\")\n",
        "plt.legend()\n",
        "plt.show()"
      ],
      "execution_count": null,
      "outputs": []
    },
    {
      "cell_type": "code",
      "metadata": {
        "id": "gunWd_n9Kn1Q"
      },
      "source": [
        "#VGG19_224\n",
        "model, training_loss, training_accuracy=main('vgg19', 224)\n",
        "model\n",
        "\n",
        "epoch = [1, 2, 3, 4, 5, 6, 7, 8]\n",
        "\n",
        "\n",
        "plt.plot(epoch, training_loss, label='training_loss')\n",
        "plt.plot(epoch, training_accuracy, label='training_accuracy')\n",
        "plt.plot()\n",
        "plt.xlabel(\"epochs\")\n",
        "plt.ylabel(\"loss & accuracy\")\n",
        "plt.title(\"VGG19_preprocess(224)\")\n",
        "plt.legend()\n",
        "plt.show()"
      ],
      "execution_count": null,
      "outputs": []
    },
    {
      "cell_type": "code",
      "metadata": {
        "id": "7jshatkoQ2Q2"
      },
      "source": [
        "#Resnet50_32\n",
        "model, training_loss, training_accuracy=main('resnet50', 32)\n",
        "model\n",
        "\n",
        "epoch = [1, 2, 3, 4, 5, 6, 7, 8]\n",
        "\n",
        "\n",
        "plt.plot(epoch, training_loss, label='training_loss')\n",
        "plt.plot(epoch, training_accuracy, label='training_accuracy')\n",
        "plt.plot()\n",
        "plt.xlabel(\"epochs\")\n",
        "plt.ylabel(\"loss & accuracy\")\n",
        "plt.title(\"Resnet50_preprocess(32x32)\")\n",
        "plt.legend()\n",
        "plt.show()"
      ],
      "execution_count": null,
      "outputs": []
    },
    {
      "cell_type": "code",
      "metadata": {
        "id": "d1yf5yfBQ4KX"
      },
      "source": [
        "#Resnet50\n",
        "model = main('resnet50', 224)"
      ],
      "execution_count": null,
      "outputs": []
    }
  ]
}