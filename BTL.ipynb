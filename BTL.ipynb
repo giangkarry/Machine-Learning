{
  "nbformat": 4,
  "nbformat_minor": 0,
  "metadata": {
    "colab": {
      "name": "BTL.ipynb",
      "provenance": [],
      "authorship_tag": "ABX9TyOoEdknRRMEzb6HKDbox8tH",
      "include_colab_link": true
    },
    "kernelspec": {
      "name": "python3",
      "display_name": "Python 3"
    },
    "language_info": {
      "name": "python"
    },
    "accelerator": "GPU"
  },
  "cells": [
    {
      "cell_type": "markdown",
      "metadata": {
        "id": "view-in-github",
        "colab_type": "text"
      },
      "source": [
        "<a href=\"https://colab.research.google.com/github/giangkarry/Machine-Learning/blob/main/BTL.ipynb\" target=\"_parent\"><img src=\"https://colab.research.google.com/assets/colab-badge.svg\" alt=\"Open In Colab\"/></a>"
      ]
    },
    {
      "cell_type": "code",
      "metadata": {
        "colab": {
          "base_uri": "https://localhost:8080/"
        },
        "id": "AR42hld91Of5",
        "outputId": "0fae8507-31f8-48cb-e601-f1a63834aa74"
      },
      "source": [
        "!git clone https://github.com/giangkarry/Machine-Learning.git"
      ],
      "execution_count": null,
      "outputs": [
        {
          "output_type": "stream",
          "name": "stdout",
          "text": [
            "fatal: destination path 'Machine-Learning' already exists and is not an empty directory.\n"
          ]
        }
      ]
    },
    {
      "cell_type": "code",
      "metadata": {
        "id": "37_RNB6A1V2T"
      },
      "source": [
        "import torch\n",
        "from torch import nn\n",
        "import torchvision\n",
        "from torchvision import transforms\n",
        "import matplotlib.pyplot as plt\n",
        "from collections import namedtuple\n",
        "from sklearn.metrics import classification_report, accuracy_score"
      ],
      "execution_count": null,
      "outputs": []
    },
    {
      "cell_type": "code",
      "metadata": {
        "id": "AyTEsCx11X-_"
      },
      "source": [
        "classes = ('2C', '3C', '4C')\n",
        "TrainTest = namedtuple('TrainTest', ['train', 'test'])\n",
        "traindir = '/content/Machine-Learning/DATA_CHAMBER_2021/train'\n",
        "testdir = '/content/Machine-Learning/DATA_CHAMBER_2021/test'\n",
        "mean_, std_ = [0.485, 0.456, 0.406], [0.229, 0.224, 0.225]\n",
        "\n",
        "#raw_img\n",
        "def raw_img(img_size):\n",
        "  transform_train = transforms.Compose([\n",
        "        transforms.Resize((img_size,img_size)), \n",
        "        transforms.ToTensor()\n",
        "    ])\n",
        "  transform_test = transforms.Compose([\n",
        "        transforms.Resize((img_size,img_size)), \n",
        "        transforms.ToTensor()\n",
        "    ])\n",
        "  return transform_train, transform_test\n",
        "\n",
        "# preprocess_image\n",
        "def preprocess_img(img_size):\n",
        "  transform_train = transforms.Compose([\n",
        "       transforms.Resize((img_size, img_size)),\n",
        "       transforms.GaussianBlur(3),\n",
        "       transforms.RandomRotation(2.8),\n",
        "       transforms.ToTensor(),\n",
        "       #transforms.Normalize(mean=mean_, std=std_)                                 \n",
        "                                        \n",
        "  ])\n",
        "\n",
        "  transform_test = transforms.Compose([\n",
        "        transforms.Resize((img_size,img_size)), \n",
        "        transforms.ToTensor()\n",
        "    ])\n",
        "  return transform_train, transform_test\n",
        "\n",
        "# augmentation_image\n",
        "def augmentation_img(img_size):\n",
        "  transform_train = transforms.Compose([\n",
        "       transforms.Resize((img_size, img_size)), \n",
        "       transforms.RandomCrop(img_size, padding = 4),\n",
        "       transforms.RandomHorizontalFlip(),\n",
        "       transforms.ColorJitter(brightness=0.3, contrast=0.1),\n",
        "       transforms.ToTensor()                               \n",
        "  ])\n",
        "\n",
        "  transform_test = transforms.Compose([\n",
        "        transforms.Resize((img_size,img_size)), \n",
        "        transforms.ToTensor()\n",
        "    ])\n",
        "  return transform_train, transform_test"
      ],
      "execution_count": null,
      "outputs": []
    },
    {
      "cell_type": "code",
      "metadata": {
        "id": "UaobAM352SKw"
      },
      "source": [
        "#hàm chuẩn bị dữ liệu\n",
        "def prepare_data(img_size):\n",
        "  #transform_train, transform_test = raw_img(img_size)\n",
        "  #transform_train, transform_test = preprocess_img(img_size)\n",
        "  transform_train, transform_test = augmentation_img(img_size)\n",
        "  \n",
        "  trainset = torchvision.datasets.ImageFolder(root= traindir, transform=transform_train)\n",
        "  testset  = torchvision.datasets.ImageFolder(root=testdir, transform=transform_test)\n",
        "  return TrainTest (\n",
        "      train = trainset,\n",
        "      test = testset\n",
        "  )\n",
        "\n",
        "#hàm chuẩn bị dữ liệu theo batch đưa vào model\n",
        "def prepare_loader(datasets):\n",
        "    batch_size = 32\n",
        "    num_workers = 4\n",
        "    trainloader = torch.utils.data.DataLoader(\n",
        "        dataset=datasets.train, batch_size=batch_size, shuffle=True, num_workers=num_workers)\n",
        "    testloader = torch.utils.data.DataLoader(\n",
        "        dataset=datasets.test, batch_size=batch_size, shuffle=False, num_workers=num_workers)\n",
        "    return TrainTest(\n",
        "        train=trainloader,\n",
        "        test=testloader\n",
        "    )"
      ],
      "execution_count": null,
      "outputs": []
    },
    {
      "cell_type": "code",
      "metadata": {
        "id": "DkpGY-Jf1akP"
      },
      "source": [
        "#train\n",
        "def get_trainer(model):\n",
        "  loss = nn.CrossEntropyLoss()\n",
        "  optimizer = torch.optim.SGD(model.parameters(), lr=0.01, momentum=0.9, weight_decay=5e-4)\n",
        "  return loss, optimizer\n",
        "\n",
        "#hàm train trong mỗi epoch\n",
        "def train_epoch(epoch, model, loader, loss_func, optimizer, device):\n",
        "    model.train()\n",
        "    running_loss = 0.0\n",
        "    reporting_step = 42\n",
        "    for i, (images, labels) in enumerate(loader):\n",
        "        images, labels = images.to(device), labels.to(device)\n",
        "\n",
        "        optimizer.zero_grad()\n",
        "        outputs = model(images)\n",
        "        loss = loss_func(outputs, labels)\n",
        "        loss.backward()\n",
        "        optimizer.step()\n",
        "        \n",
        "        running_loss += loss.item()\n",
        "        if i % reporting_step == reporting_step-1:\n",
        "            print(f\"Epoch {epoch} Step {i} ave_loss {running_loss/reporting_step:0.4f}\")\n",
        "            running_loss = 0.0"
      ],
      "execution_count": null,
      "outputs": []
    },
    {
      "cell_type": "code",
      "metadata": {
        "id": "PZbcsb751fwt"
      },
      "source": [
        "#hàm test\n",
        "def test_epoch(epoch, model, loader, device):\n",
        "    model.eval()\n",
        "    ypred = []\n",
        "    ytrue = []\n",
        "    for i, (images, labels) in enumerate(loader):\n",
        "      images, labels = images.to(device), labels.to(device)\n",
        "      outputs = model(images)\n",
        "      _, predicted = torch.max(outputs, dim=1)\n",
        "      ypred += list(predicted.cpu().numpy())\n",
        "      ytrue += list(labels.cpu().numpy())\n",
        "    return ypred, ytrue"
      ],
      "execution_count": null,
      "outputs": []
    },
    {
      "cell_type": "code",
      "metadata": {
        "id": "vp1i5P3J1gtT"
      },
      "source": [
        "#thực thi\n",
        "def main(model = None, img_size = None):\n",
        "  datasets = prepare_data(img_size)\n",
        "  loaders = prepare_loader(datasets)\n",
        "  #print(\"Tập train: \", len(datasets.train))\n",
        "  #print(\"Tập test: \", len(datasets.test))\n",
        "  #print(\"class: \", datasets.test.class_to_idx)\n",
        "  \n",
        "  device = torch.device(\"cuda:0\" if torch.cuda.is_available() else \"cpu\")\n",
        "  PATH = ''\n",
        "  if model == 'vgg16':\n",
        "    model = torchvision.models.vgg16()\n",
        "    model.classifier[-1] = torch.nn.modules.Linear(in_features=4096, out_features=3)\n",
        "    PATH = './vgg16.pth'\n",
        "  \n",
        "  elif (model == 'vgg19'):\n",
        "    model = torchvision.models.vgg19()\n",
        "    model.classifier[-1] = torch.nn.modules.Linear(in_features=4096, out_features=3)\n",
        "    PATH = './vgg19.pth'\n",
        "  \n",
        "  elif model == 'resnet50':\n",
        "    model = torchvision.models.resnet50()\n",
        "    model.fc = torch.nn.modules.Linear(in_features=2048, out_features=3)\n",
        "    PATH = './vgg16.pth'\n",
        "  \n",
        "\n",
        "  n_epoch = 8\n",
        "  model.to(device)\n",
        "  #print(device)\n",
        "  loss, optimizer = get_trainer(model)\n",
        "  for epoch in range(n_epoch):\n",
        "    train_epoch(epoch, model, loaders.train, loss, optimizer, device)\n",
        "    ypred, ytrue = test_epoch(epoch, model, loaders.test, device)\n",
        "    print(classification_report(ytrue, ypred, target_names=classes))\n",
        "    \n",
        "    \n",
        "    torch.save(model.state_dict(), PATH)\n",
        "  return model"
      ],
      "execution_count": null,
      "outputs": []
    },
    {
      "cell_type": "code",
      "metadata": {
        "id": "pR8Iya8y1jUC"
      },
      "source": [
        "#VGG16\n",
        "model=main('vgg16', 32)"
      ],
      "execution_count": null,
      "outputs": []
    },
    {
      "cell_type": "code",
      "metadata": {
        "id": "Pivb2-pf1l1W"
      },
      "source": [
        "#VGG16\n",
        "model=main('vgg16', 224)"
      ],
      "execution_count": null,
      "outputs": []
    },
    {
      "cell_type": "code",
      "metadata": {
        "id": "oNhEwWAH1nd6"
      },
      "source": [
        "#VGG19\n",
        "model=main('vgg19', 32)"
      ],
      "execution_count": null,
      "outputs": []
    },
    {
      "cell_type": "code",
      "metadata": {
        "id": "f4JwTJVT1pFF"
      },
      "source": [
        "#VGG19\n",
        "model=main('vgg19', 224)"
      ],
      "execution_count": null,
      "outputs": []
    },
    {
      "cell_type": "code",
      "metadata": {
        "id": "7Q93g1js1q5I"
      },
      "source": [
        "#Reanet50\n",
        "model = main('resnet50', 32)"
      ],
      "execution_count": null,
      "outputs": []
    },
    {
      "cell_type": "code",
      "metadata": {
        "id": "1-tzfHWD1spU"
      },
      "source": [
        "#Reanet50\n",
        "model = main('resnet50', 224)"
      ],
      "execution_count": null,
      "outputs": []
    }
  ]
}